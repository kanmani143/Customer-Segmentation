{
 "cells": [
  {
   "cell_type": "markdown",
   "id": "94eeacaa-1eea-413a-afa0-ee3d49e9f96e",
   "metadata": {},
   "source": [
    "## Customer Segmentation for Targeted Marketing"
   ]
  },
  {
   "cell_type": "code",
   "execution_count": 1,
   "id": "f145bae3-8250-4773-95db-e4ac1e88dee9",
   "metadata": {},
   "outputs": [],
   "source": [
    "# Import libraries\n",
    "import pandas as pd\n",
    "import numpy as np\n",
    "import matplotlib.pyplot as plt\n",
    "import seaborn as sns\n",
    "from sklearn.preprocessing import StandardScaler\n",
    "from sklearn.cluster import KMeans\n",
    "from sklearn.metrics import silhouette_score\n",
    "from scipy.stats import zscore"
   ]
  },
  {
   "cell_type": "markdown",
   "id": "f71b8f55-8234-47d8-b119-257728b4d489",
   "metadata": {},
   "source": [
    "### Data Extraction & Storage"
   ]
  },
  {
   "cell_type": "code",
   "execution_count": 2,
   "id": "4257211a-2acd-4acc-934c-85779c9ac7a2",
   "metadata": {},
   "outputs": [
    {
     "data": {
      "text/html": [
       "<div>\n",
       "<style scoped>\n",
       "    .dataframe tbody tr th:only-of-type {\n",
       "        vertical-align: middle;\n",
       "    }\n",
       "\n",
       "    .dataframe tbody tr th {\n",
       "        vertical-align: top;\n",
       "    }\n",
       "\n",
       "    .dataframe thead th {\n",
       "        text-align: right;\n",
       "    }\n",
       "</style>\n",
       "<table border=\"1\" class=\"dataframe\">\n",
       "  <thead>\n",
       "    <tr style=\"text-align: right;\">\n",
       "      <th></th>\n",
       "      <th>CUST_ID</th>\n",
       "      <th>BALANCE</th>\n",
       "      <th>BALANCE_FREQUENCY</th>\n",
       "      <th>PURCHASES</th>\n",
       "      <th>ONEOFF_PURCHASES</th>\n",
       "      <th>INSTALLMENTS_PURCHASES</th>\n",
       "      <th>CASH_ADVANCE</th>\n",
       "      <th>PURCHASES_FREQUENCY</th>\n",
       "      <th>ONEOFF_PURCHASES_FREQUENCY</th>\n",
       "      <th>PURCHASES_INSTALLMENTS_FREQUENCY</th>\n",
       "      <th>CASH_ADVANCE_FREQUENCY</th>\n",
       "      <th>CASH_ADVANCE_TRX</th>\n",
       "      <th>PURCHASES_TRX</th>\n",
       "      <th>CREDIT_LIMIT</th>\n",
       "      <th>PAYMENTS</th>\n",
       "      <th>MINIMUM_PAYMENTS</th>\n",
       "      <th>PRC_FULL_PAYMENT</th>\n",
       "      <th>TENURE</th>\n",
       "    </tr>\n",
       "  </thead>\n",
       "  <tbody>\n",
       "    <tr>\n",
       "      <th>0</th>\n",
       "      <td>C10001</td>\n",
       "      <td>40.900749</td>\n",
       "      <td>0.818182</td>\n",
       "      <td>95.40</td>\n",
       "      <td>0.00</td>\n",
       "      <td>95.4</td>\n",
       "      <td>0.000000</td>\n",
       "      <td>0.166667</td>\n",
       "      <td>0.000000</td>\n",
       "      <td>0.083333</td>\n",
       "      <td>0.000000</td>\n",
       "      <td>0</td>\n",
       "      <td>2</td>\n",
       "      <td>1000.0</td>\n",
       "      <td>201.802084</td>\n",
       "      <td>139.509787</td>\n",
       "      <td>0.000000</td>\n",
       "      <td>12</td>\n",
       "    </tr>\n",
       "    <tr>\n",
       "      <th>1</th>\n",
       "      <td>C10002</td>\n",
       "      <td>3202.467416</td>\n",
       "      <td>0.909091</td>\n",
       "      <td>0.00</td>\n",
       "      <td>0.00</td>\n",
       "      <td>0.0</td>\n",
       "      <td>6442.945483</td>\n",
       "      <td>0.000000</td>\n",
       "      <td>0.000000</td>\n",
       "      <td>0.000000</td>\n",
       "      <td>0.250000</td>\n",
       "      <td>4</td>\n",
       "      <td>0</td>\n",
       "      <td>7000.0</td>\n",
       "      <td>4103.032597</td>\n",
       "      <td>1072.340217</td>\n",
       "      <td>0.222222</td>\n",
       "      <td>12</td>\n",
       "    </tr>\n",
       "    <tr>\n",
       "      <th>2</th>\n",
       "      <td>C10003</td>\n",
       "      <td>2495.148862</td>\n",
       "      <td>1.000000</td>\n",
       "      <td>773.17</td>\n",
       "      <td>773.17</td>\n",
       "      <td>0.0</td>\n",
       "      <td>0.000000</td>\n",
       "      <td>1.000000</td>\n",
       "      <td>1.000000</td>\n",
       "      <td>0.000000</td>\n",
       "      <td>0.000000</td>\n",
       "      <td>0</td>\n",
       "      <td>12</td>\n",
       "      <td>7500.0</td>\n",
       "      <td>622.066742</td>\n",
       "      <td>627.284787</td>\n",
       "      <td>0.000000</td>\n",
       "      <td>12</td>\n",
       "    </tr>\n",
       "    <tr>\n",
       "      <th>3</th>\n",
       "      <td>C10004</td>\n",
       "      <td>1666.670542</td>\n",
       "      <td>0.636364</td>\n",
       "      <td>1499.00</td>\n",
       "      <td>1499.00</td>\n",
       "      <td>0.0</td>\n",
       "      <td>205.788017</td>\n",
       "      <td>0.083333</td>\n",
       "      <td>0.083333</td>\n",
       "      <td>0.000000</td>\n",
       "      <td>0.083333</td>\n",
       "      <td>1</td>\n",
       "      <td>1</td>\n",
       "      <td>7500.0</td>\n",
       "      <td>0.000000</td>\n",
       "      <td>NaN</td>\n",
       "      <td>0.000000</td>\n",
       "      <td>12</td>\n",
       "    </tr>\n",
       "    <tr>\n",
       "      <th>4</th>\n",
       "      <td>C10005</td>\n",
       "      <td>817.714335</td>\n",
       "      <td>1.000000</td>\n",
       "      <td>16.00</td>\n",
       "      <td>16.00</td>\n",
       "      <td>0.0</td>\n",
       "      <td>0.000000</td>\n",
       "      <td>0.083333</td>\n",
       "      <td>0.083333</td>\n",
       "      <td>0.000000</td>\n",
       "      <td>0.000000</td>\n",
       "      <td>0</td>\n",
       "      <td>1</td>\n",
       "      <td>1200.0</td>\n",
       "      <td>678.334763</td>\n",
       "      <td>244.791237</td>\n",
       "      <td>0.000000</td>\n",
       "      <td>12</td>\n",
       "    </tr>\n",
       "  </tbody>\n",
       "</table>\n",
       "</div>"
      ],
      "text/plain": [
       "  CUST_ID      BALANCE  BALANCE_FREQUENCY  PURCHASES  ONEOFF_PURCHASES  \\\n",
       "0  C10001    40.900749           0.818182      95.40              0.00   \n",
       "1  C10002  3202.467416           0.909091       0.00              0.00   \n",
       "2  C10003  2495.148862           1.000000     773.17            773.17   \n",
       "3  C10004  1666.670542           0.636364    1499.00           1499.00   \n",
       "4  C10005   817.714335           1.000000      16.00             16.00   \n",
       "\n",
       "   INSTALLMENTS_PURCHASES  CASH_ADVANCE  PURCHASES_FREQUENCY  \\\n",
       "0                    95.4      0.000000             0.166667   \n",
       "1                     0.0   6442.945483             0.000000   \n",
       "2                     0.0      0.000000             1.000000   \n",
       "3                     0.0    205.788017             0.083333   \n",
       "4                     0.0      0.000000             0.083333   \n",
       "\n",
       "   ONEOFF_PURCHASES_FREQUENCY  PURCHASES_INSTALLMENTS_FREQUENCY  \\\n",
       "0                    0.000000                          0.083333   \n",
       "1                    0.000000                          0.000000   \n",
       "2                    1.000000                          0.000000   \n",
       "3                    0.083333                          0.000000   \n",
       "4                    0.083333                          0.000000   \n",
       "\n",
       "   CASH_ADVANCE_FREQUENCY  CASH_ADVANCE_TRX  PURCHASES_TRX  CREDIT_LIMIT  \\\n",
       "0                0.000000                 0              2        1000.0   \n",
       "1                0.250000                 4              0        7000.0   \n",
       "2                0.000000                 0             12        7500.0   \n",
       "3                0.083333                 1              1        7500.0   \n",
       "4                0.000000                 0              1        1200.0   \n",
       "\n",
       "      PAYMENTS  MINIMUM_PAYMENTS  PRC_FULL_PAYMENT  TENURE  \n",
       "0   201.802084        139.509787          0.000000      12  \n",
       "1  4103.032597       1072.340217          0.222222      12  \n",
       "2   622.066742        627.284787          0.000000      12  \n",
       "3     0.000000               NaN          0.000000      12  \n",
       "4   678.334763        244.791237          0.000000      12  "
      ]
     },
     "execution_count": 2,
     "metadata": {},
     "output_type": "execute_result"
    }
   ],
   "source": [
    "df = pd.read_csv('Customer Data.csv')\n",
    "df.head()"
   ]
  },
  {
   "cell_type": "markdown",
   "id": "a94af79c-9145-4c5a-97be-4283e1879917",
   "metadata": {},
   "source": [
    "### Exploratory Analysis"
   ]
  },
  {
   "cell_type": "code",
   "execution_count": 3,
   "id": "4c9d16c5-1b91-4fbd-829a-9691a7ee94b3",
   "metadata": {},
   "outputs": [
    {
     "name": "stdout",
     "output_type": "stream",
     "text": [
      "<class 'pandas.core.frame.DataFrame'>\n",
      "RangeIndex: 8950 entries, 0 to 8949\n",
      "Data columns (total 18 columns):\n",
      " #   Column                            Non-Null Count  Dtype  \n",
      "---  ------                            --------------  -----  \n",
      " 0   CUST_ID                           8950 non-null   object \n",
      " 1   BALANCE                           8950 non-null   float64\n",
      " 2   BALANCE_FREQUENCY                 8950 non-null   float64\n",
      " 3   PURCHASES                         8950 non-null   float64\n",
      " 4   ONEOFF_PURCHASES                  8950 non-null   float64\n",
      " 5   INSTALLMENTS_PURCHASES            8950 non-null   float64\n",
      " 6   CASH_ADVANCE                      8950 non-null   float64\n",
      " 7   PURCHASES_FREQUENCY               8950 non-null   float64\n",
      " 8   ONEOFF_PURCHASES_FREQUENCY        8950 non-null   float64\n",
      " 9   PURCHASES_INSTALLMENTS_FREQUENCY  8950 non-null   float64\n",
      " 10  CASH_ADVANCE_FREQUENCY            8950 non-null   float64\n",
      " 11  CASH_ADVANCE_TRX                  8950 non-null   int64  \n",
      " 12  PURCHASES_TRX                     8950 non-null   int64  \n",
      " 13  CREDIT_LIMIT                      8949 non-null   float64\n",
      " 14  PAYMENTS                          8950 non-null   float64\n",
      " 15  MINIMUM_PAYMENTS                  8637 non-null   float64\n",
      " 16  PRC_FULL_PAYMENT                  8950 non-null   float64\n",
      " 17  TENURE                            8950 non-null   int64  \n",
      "dtypes: float64(14), int64(3), object(1)\n",
      "memory usage: 1.2+ MB\n",
      "None\n",
      "            BALANCE  BALANCE_FREQUENCY     PURCHASES  ONEOFF_PURCHASES  \\\n",
      "count   8950.000000        8950.000000   8950.000000       8950.000000   \n",
      "mean    1564.474828           0.877271   1003.204834        592.437371   \n",
      "std     2081.531879           0.236904   2136.634782       1659.887917   \n",
      "min        0.000000           0.000000      0.000000          0.000000   \n",
      "25%      128.281915           0.888889     39.635000          0.000000   \n",
      "50%      873.385231           1.000000    361.280000         38.000000   \n",
      "75%     2054.140036           1.000000   1110.130000        577.405000   \n",
      "max    19043.138560           1.000000  49039.570000      40761.250000   \n",
      "\n",
      "       INSTALLMENTS_PURCHASES  CASH_ADVANCE  PURCHASES_FREQUENCY  \\\n",
      "count             8950.000000   8950.000000          8950.000000   \n",
      "mean               411.067645    978.871112             0.490351   \n",
      "std                904.338115   2097.163877             0.401371   \n",
      "min                  0.000000      0.000000             0.000000   \n",
      "25%                  0.000000      0.000000             0.083333   \n",
      "50%                 89.000000      0.000000             0.500000   \n",
      "75%                468.637500   1113.821139             0.916667   \n",
      "max              22500.000000  47137.211760             1.000000   \n",
      "\n",
      "       ONEOFF_PURCHASES_FREQUENCY  PURCHASES_INSTALLMENTS_FREQUENCY  \\\n",
      "count                 8950.000000                       8950.000000   \n",
      "mean                     0.202458                          0.364437   \n",
      "std                      0.298336                          0.397448   \n",
      "min                      0.000000                          0.000000   \n",
      "25%                      0.000000                          0.000000   \n",
      "50%                      0.083333                          0.166667   \n",
      "75%                      0.300000                          0.750000   \n",
      "max                      1.000000                          1.000000   \n",
      "\n",
      "       CASH_ADVANCE_FREQUENCY  CASH_ADVANCE_TRX  PURCHASES_TRX  CREDIT_LIMIT  \\\n",
      "count             8950.000000       8950.000000    8950.000000   8949.000000   \n",
      "mean                 0.135144          3.248827      14.709832   4494.449450   \n",
      "std                  0.200121          6.824647      24.857649   3638.815725   \n",
      "min                  0.000000          0.000000       0.000000     50.000000   \n",
      "25%                  0.000000          0.000000       1.000000   1600.000000   \n",
      "50%                  0.000000          0.000000       7.000000   3000.000000   \n",
      "75%                  0.222222          4.000000      17.000000   6500.000000   \n",
      "max                  1.500000        123.000000     358.000000  30000.000000   \n",
      "\n",
      "           PAYMENTS  MINIMUM_PAYMENTS  PRC_FULL_PAYMENT       TENURE  \n",
      "count   8950.000000       8637.000000       8950.000000  8950.000000  \n",
      "mean    1733.143852        864.206542          0.153715    11.517318  \n",
      "std     2895.063757       2372.446607          0.292499     1.338331  \n",
      "min        0.000000          0.019163          0.000000     6.000000  \n",
      "25%      383.276166        169.123707          0.000000    12.000000  \n",
      "50%      856.901546        312.343947          0.000000    12.000000  \n",
      "75%     1901.134317        825.485459          0.142857    12.000000  \n",
      "max    50721.483360      76406.207520          1.000000    12.000000  \n",
      "  CUST_ID      BALANCE  BALANCE_FREQUENCY  PURCHASES  ONEOFF_PURCHASES  \\\n",
      "0  C10001    40.900749           0.818182      95.40              0.00   \n",
      "1  C10002  3202.467416           0.909091       0.00              0.00   \n",
      "2  C10003  2495.148862           1.000000     773.17            773.17   \n",
      "3  C10004  1666.670542           0.636364    1499.00           1499.00   \n",
      "4  C10005   817.714335           1.000000      16.00             16.00   \n",
      "\n",
      "   INSTALLMENTS_PURCHASES  CASH_ADVANCE  PURCHASES_FREQUENCY  \\\n",
      "0                    95.4      0.000000             0.166667   \n",
      "1                     0.0   6442.945483             0.000000   \n",
      "2                     0.0      0.000000             1.000000   \n",
      "3                     0.0    205.788017             0.083333   \n",
      "4                     0.0      0.000000             0.083333   \n",
      "\n",
      "   ONEOFF_PURCHASES_FREQUENCY  PURCHASES_INSTALLMENTS_FREQUENCY  \\\n",
      "0                    0.000000                          0.083333   \n",
      "1                    0.000000                          0.000000   \n",
      "2                    1.000000                          0.000000   \n",
      "3                    0.083333                          0.000000   \n",
      "4                    0.083333                          0.000000   \n",
      "\n",
      "   CASH_ADVANCE_FREQUENCY  CASH_ADVANCE_TRX  PURCHASES_TRX  CREDIT_LIMIT  \\\n",
      "0                0.000000                 0              2        1000.0   \n",
      "1                0.250000                 4              0        7000.0   \n",
      "2                0.000000                 0             12        7500.0   \n",
      "3                0.083333                 1              1        7500.0   \n",
      "4                0.000000                 0              1        1200.0   \n",
      "\n",
      "      PAYMENTS  MINIMUM_PAYMENTS  PRC_FULL_PAYMENT  TENURE  \n",
      "0   201.802084        139.509787          0.000000      12  \n",
      "1  4103.032597       1072.340217          0.222222      12  \n",
      "2   622.066742        627.284787          0.000000      12  \n",
      "3     0.000000               NaN          0.000000      12  \n",
      "4   678.334763        244.791237          0.000000      12  \n"
     ]
    }
   ],
   "source": [
    "# Initial exploration\n",
    "print(df.info())\n",
    "print(df.describe())\n",
    "print(df.head())"
   ]
  },
  {
   "cell_type": "markdown",
   "id": "10a593f9-c731-4d6f-9a29-3035aacb1d4c",
   "metadata": {},
   "source": [
    "### Data Cleaning & Processing"
   ]
  },
  {
   "cell_type": "code",
   "execution_count": 4,
   "id": "fb72101c-0b2b-42b0-b01e-dc79ee6d2090",
   "metadata": {},
   "outputs": [],
   "source": [
    "# Data Manipulation & Processing\n",
    "# Handle missing values\n",
    "df['CREDIT_LIMIT'].fillna(df['CREDIT_LIMIT'].median(), inplace=True)\n",
    "df['MINIMUM_PAYMENTS'].fillna(df['MINIMUM_PAYMENTS'].median(), inplace=True)"
   ]
  },
  {
   "cell_type": "markdown",
   "id": "1e361c67-d896-45a5-b9e5-b4e7949884c0",
   "metadata": {},
   "source": [
    "### Feature Engineering"
   ]
  },
  {
   "cell_type": "code",
   "execution_count": 5,
   "id": "aa842daa-1d24-4d36-b4e5-46b0012d85b8",
   "metadata": {},
   "outputs": [],
   "source": [
    "# Feature 1: Total Purchases\n",
    "df['TOTAL_PURCHASES'] = df['PURCHASES'] + df['ONEOFF_PURCHASES'] + df['INSTALLMENTS_PURCHASES']"
   ]
  },
  {
   "cell_type": "code",
   "execution_count": 32,
   "id": "04f8499e-550a-4622-9faf-6a5adfae36c0",
   "metadata": {},
   "outputs": [],
   "source": [
    "# Feature 2: Payment Ratio\n",
    "df['PAYMENT_RATIO'] = df['PAYMENTS'] / (df['PAYMENTS'] + df['CASH_ADVANCE'])"
   ]
  },
  {
   "cell_type": "code",
   "execution_count": 33,
   "id": "6d32bb13-6103-48c1-b31b-b8b88b23f340",
   "metadata": {},
   "outputs": [],
   "source": [
    "df['PAYMENT_RATIO'].fillna(df['PAYMENT_RATIO'].median(), inplace=True)"
   ]
  },
  {
   "cell_type": "code",
   "execution_count": 34,
   "id": "93218f8d-290f-4929-b5ef-0727b2762535",
   "metadata": {},
   "outputs": [],
   "source": [
    "# Drop unnecessary columns for clustering\n",
    "df_clustering = df.drop(['CUST_ID'], axis=1)"
   ]
  },
  {
   "cell_type": "code",
   "execution_count": 35,
   "id": "05e25029-bbfb-49a4-ab80-d61f318723a8",
   "metadata": {},
   "outputs": [
    {
     "data": {
      "text/plain": [
       "BALANCE                             0\n",
       "BALANCE_FREQUENCY                   0\n",
       "PURCHASES                           0\n",
       "ONEOFF_PURCHASES                    0\n",
       "INSTALLMENTS_PURCHASES              0\n",
       "CASH_ADVANCE                        0\n",
       "PURCHASES_FREQUENCY                 0\n",
       "ONEOFF_PURCHASES_FREQUENCY          0\n",
       "PURCHASES_INSTALLMENTS_FREQUENCY    0\n",
       "CASH_ADVANCE_FREQUENCY              0\n",
       "CASH_ADVANCE_TRX                    0\n",
       "PURCHASES_TRX                       0\n",
       "CREDIT_LIMIT                        0\n",
       "PAYMENTS                            0\n",
       "MINIMUM_PAYMENTS                    0\n",
       "PRC_FULL_PAYMENT                    0\n",
       "TENURE                              0\n",
       "TOTAL_PURCHASES                     0\n",
       "Cluster                             0\n",
       "PAYMENT_RATIO                       0\n",
       "dtype: int64"
      ]
     },
     "execution_count": 35,
     "metadata": {},
     "output_type": "execute_result"
    }
   ],
   "source": [
    "df_clustering.isnull().sum()"
   ]
  },
  {
   "cell_type": "code",
   "execution_count": 36,
   "id": "b99aaed2-1bdd-461d-a4c8-853ea4b807e1",
   "metadata": {},
   "outputs": [],
   "source": [
    "# Standardize the data\n",
    "scaler = StandardScaler()\n",
    "df_clustering_scaled = pd.DataFrame(scaler.fit_transform(df_clustering), columns=df_clustering.columns)"
   ]
  },
  {
   "cell_type": "markdown",
   "id": "75d3698a-1869-44c4-b6c1-dbf4c908ea66",
   "metadata": {},
   "source": [
    "### K-Means Clustering"
   ]
  },
  {
   "cell_type": "code",
   "execution_count": 37,
   "id": "2892436a-7710-459b-9318-29eb687a84e9",
   "metadata": {},
   "outputs": [],
   "source": [
    "# Determine the optimal number of clusters using Elbow Method\n",
    "wcss = []\n",
    "for i in range(1, 11):\n",
    "    kmeans = KMeans(n_clusters=i, init='k-means++', max_iter=300, n_init=10, random_state=42)\n",
    "    kmeans.fit(df_clustering_scaled)\n",
    "    wcss.append(kmeans.inertia_)"
   ]
  },
  {
   "cell_type": "code",
   "execution_count": 10,
   "id": "2551cba9-4c3d-4a57-9fc0-ffd111aa47e4",
   "metadata": {},
   "outputs": [
    {
     "data": {
      "image/png": "[encoded data removed]",
      "text/plain": [
       "<Figure size 1000x600 with 1 Axes>"
      ]
     },
     "metadata": {},
     "output_type": "display_data"
    }
   ],
   "source": [
    "# Plot the Elbow Method result\n",
    "plt.figure(figsize=(10, 6))\n",
    "plt.plot(range(1, 11), wcss, marker='o')\n",
    "plt.title('Elbow Method for Optimal Number of Clusters')\n",
    "plt.xlabel('Number of clusters')\n",
    "plt.ylabel('WCSS')\n",
    "plt.show()"
   ]
  },
  {
   "cell_type": "code",
   "execution_count": 38,
   "id": "ea4a891b-6a13-4892-b6c4-b9c88473611d",
   "metadata": {},
   "outputs": [],
   "source": [
    "# Optimal number of clusters (let's assume 5 from elbow method)\n",
    "optimal_clusters = 5\n",
    "kmeans = KMeans(n_clusters=optimal_clusters, init='k-means++', max_iter=300, n_init=10, random_state=42)\n",
    "df_clustering_scaled['Cluster'] = kmeans.fit_predict(df_clustering_scaled)"
   ]
  },
  {
   "cell_type": "code",
   "execution_count": 39,
   "id": "363de460-892b-4123-93f0-e658b0bbdeae",
   "metadata": {},
   "outputs": [],
   "source": [
    "# Add cluster labels back to the original dataframe\n",
    "df['Cluster'] = df_clustering_scaled['Cluster']"
   ]
  },
  {
   "cell_type": "markdown",
   "id": "ef4afebe-af4d-4dfa-b061-f8699411d61a",
   "metadata": {},
   "source": [
    "### Quality Assurance"
   ]
  },
  {
   "cell_type": "code",
   "execution_count": 40,
   "id": "0a10cc01-a580-47d9-9e8f-b1c3b426e812",
   "metadata": {},
   "outputs": [
    {
     "name": "stdout",
     "output_type": "stream",
     "text": [
      "Cluster\n",
      "0      29\n",
      "1    3093\n",
      "2    3885\n",
      "3     698\n",
      "4    1245\n",
      "dtype: int64\n"
     ]
    }
   ],
   "source": [
    "# Check for data inconsistencies in clusters\n",
    "print(df.groupby('Cluster').size())"
   ]
  },
  {
   "cell_type": "code",
   "execution_count": 43,
   "id": "f73daacc-0fee-4d63-983c-969b218e91e4",
   "metadata": {},
   "outputs": [],
   "source": [
    "# Check for outliers\n",
    "# Calculate z-scores for numerical features\n",
    "features = ['BALANCE', 'TOTAL_PURCHASES', 'PAYMENT_RATIO']\n",
    "df_outliers = df[features].copy()\n",
    "df_outliers_zscores = df_outliers.apply(zscore)"
   ]
  },
  {
   "cell_type": "code",
   "execution_count": 44,
   "id": "e79e21d4-0b59-41b3-a1c2-c6255755a4ea",
   "metadata": {},
   "outputs": [],
   "source": [
    "# Add a column to indicate if any z-score is greater than a threshold (e.g., 3)\n",
    "df_outliers['is_outlier'] = (df_outliers_zscores.abs() > 3).any(axis=1)"
   ]
  },
  {
   "cell_type": "code",
   "execution_count": 45,
   "id": "0dfa8684-d281-469d-94ac-252cd56d76e5",
   "metadata": {},
   "outputs": [
    {
     "name": "stdout",
     "output_type": "stream",
     "text": [
      "Outliers detected:\n",
      "     CUST_ID       BALANCE  BALANCE_FREQUENCY  PURCHASES  ONEOFF_PURCHASES  \\\n",
      "30    C10031  12136.219960           1.000000    3038.01           1013.20   \n",
      "87    C10092   8181.251131           1.000000    2258.01           1318.78   \n",
      "90    C10095   9381.255094           1.000000    5100.07           1147.83   \n",
      "120   C10125   8504.876253           1.000000    6724.26           4100.08   \n",
      "124   C10130  14224.115410           1.000000       0.00              0.00   \n",
      "...      ...           ...                ...        ...               ...   \n",
      "7553  C17757   2017.391656           1.000000   12024.37          11224.10   \n",
      "7764  C17975  10856.483010           1.000000      45.65             45.65   \n",
      "7962  C18177  13318.659120           1.000000    3504.74           3266.29   \n",
      "8541  C18773   3326.323283           1.000000    8209.77           2218.28   \n",
      "8689  C18926    368.318662           0.909091    8053.95           8053.95   \n",
      "\n",
      "      INSTALLMENTS_PURCHASES  CASH_ADVANCE  PURCHASES_FREQUENCY  \\\n",
      "30                   2024.81   3183.583301             1.000000   \n",
      "87                    939.23   5251.228934             1.000000   \n",
      "90                   3952.24    370.737197             1.000000   \n",
      "120                  2624.18   1686.599777             1.000000   \n",
      "124                     0.00   4614.427403             0.000000   \n",
      "...                      ...           ...                  ...   \n",
      "7553                  800.27      0.000000             1.000000   \n",
      "7764                    0.00   5096.886673             0.083333   \n",
      "7962                  238.45   1306.849608             0.636364   \n",
      "8541                 5991.49      0.000000             1.000000   \n",
      "8689                    0.00      0.000000             0.833333   \n",
      "\n",
      "      ONEOFF_PURCHASES_FREQUENCY  PURCHASES_INSTALLMENTS_FREQUENCY  ...  \\\n",
      "30                      0.166667                          1.000000  ...   \n",
      "87                      0.750000                          1.000000  ...   \n",
      "90                      0.250000                          0.916667  ...   \n",
      "120                     0.916667                          1.000000  ...   \n",
      "124                     0.000000                          0.000000  ...   \n",
      "...                          ...                               ...  ...   \n",
      "7553                    1.000000                          0.500000  ...   \n",
      "7764                    0.083333                          0.000000  ...   \n",
      "7962                    0.545455                          0.272727  ...   \n",
      "8541                    0.416667                          1.000000  ...   \n",
      "8689                    0.833333                          0.000000  ...   \n",
      "\n",
      "      CASH_ADVANCE_TRX  PURCHASES_TRX  CREDIT_LIMIT      PAYMENTS  \\\n",
      "30                  10             64       13000.0   4230.323491   \n",
      "87                  21             60       13500.0   3021.575846   \n",
      "90                   1             46        9000.0   6409.496345   \n",
      "120                 10             85       17000.0   1888.756861   \n",
      "124                  9              0       19000.0   3066.614272   \n",
      "...                ...            ...           ...           ...   \n",
      "7553                 0            133        8000.0  11516.392320   \n",
      "7764                 5              1       14500.0   2670.733732   \n",
      "7962                 3             16       17500.0   2594.820938   \n",
      "8541                 0            130       10000.0   1942.074765   \n",
      "8689                 0             46        2000.0   7966.582037   \n",
      "\n",
      "      MINIMUM_PAYMENTS  PRC_FULL_PAYMENT  TENURE  TOTAL_PURCHASES  Cluster  \\\n",
      "30         3292.015030          0.000000      12          6076.02        4   \n",
      "87         2074.581541          0.000000      12          4516.02        4   \n",
      "90         9827.045323          0.000000      12         10200.14        3   \n",
      "120        2167.446204          0.000000      12         13448.52        3   \n",
      "124        3406.258999          0.000000      12             0.00        4   \n",
      "...                ...               ...     ...              ...      ...   \n",
      "7553        556.651236          0.333333      12         24048.74        3   \n",
      "7764       2917.469357          0.000000      12            91.30        4   \n",
      "7962       4762.246065          0.000000      11          7009.48        4   \n",
      "8541        702.905059          0.083333      12         16419.54        3   \n",
      "8689        219.761189          0.777778      12         16107.90        3   \n",
      "\n",
      "      PAYMENT_RATIO  \n",
      "30         0.570593  \n",
      "87         0.365242  \n",
      "90         0.945321  \n",
      "120        0.528271  \n",
      "124        0.399245  \n",
      "...             ...  \n",
      "7553       1.000000  \n",
      "7764       0.343829  \n",
      "7962       0.665054  \n",
      "8541       1.000000  \n",
      "8689       1.000000  \n",
      "\n",
      "[309 rows x 21 columns]\n"
     ]
    }
   ],
   "source": [
    "# Print rows with outliers\n",
    "print(\"Outliers detected:\")\n",
    "print(df[df_outliers['is_outlier']])"
   ]
  },
  {
   "cell_type": "code",
   "execution_count": 46,
   "id": "fa2744fe-8763-44fe-9467-e7f62d69a4cd",
   "metadata": {},
   "outputs": [],
   "source": [
    "# Analyze cluster characteristics\n",
    "cluster_summary = df.groupby('Cluster').agg({\n",
    "    'BALANCE': ['mean', 'std'],\n",
    "    'TOTAL_PURCHASES': ['mean', 'std'],\n",
    "    'PAYMENT_RATIO': ['mean', 'std'],\n",
    "    'CREDIT_LIMIT': ['mean', 'std']\n",
    "})"
   ]
  },
  {
   "cell_type": "code",
   "execution_count": 47,
   "id": "b2f0fc98-cd8b-4ea4-bc6c-7e3ac3b0fd2d",
   "metadata": {},
   "outputs": [
    {
     "name": "stdout",
     "output_type": "stream",
     "text": [
      "             BALANCE              TOTAL_PURCHASES               PAYMENT_RATIO  \\\n",
      "                mean          std            mean           std          mean   \n",
      "Cluster                                                                         \n",
      "0        5519.237530  4385.314536    50843.876552  17806.797975      0.966095   \n",
      "1         785.234098  1092.631077     2028.759987   1569.687174      0.928873   \n",
      "2        1016.656292  1102.904979      534.333864    929.908085      0.720077   \n",
      "3        2730.317086  2823.252631     9950.801547   4981.764256      0.924563   \n",
      "4        4464.089745  2741.559282      955.083976   1616.909838      0.387150   \n",
      "\n",
      "                   CREDIT_LIMIT               \n",
      "              std          mean          std  \n",
      "Cluster                                       \n",
      "0        0.092093  15624.137931  5824.557321  \n",
      "1        0.176397   3844.720418  2998.164234  \n",
      "2        0.312843   3290.296868  2675.983836  \n",
      "3        0.150102   8499.283668  4292.747653  \n",
      "4        0.188271   7360.405257  3710.751442  \n"
     ]
    }
   ],
   "source": [
    "print(cluster_summary)"
   ]
  },
  {
   "cell_type": "markdown",
   "id": "563d171f-9636-4b7d-be52-d8e8d6c06ef3",
   "metadata": {},
   "source": [
    "### Data Visualization"
   ]
  },
  {
   "cell_type": "code",
   "execution_count": 26,
   "id": "86632bc4-45db-40c1-a371-3de2287c7a1b",
   "metadata": {},
   "outputs": [
    {
     "data": {
      "image/png": "[encoded data removed]",
      "text/plain": [
       "<Figure size 1000x600 with 1 Axes>"
      ]
     },
     "metadata": {},
     "output_type": "display_data"
    }
   ],
   "source": [
    "# Visualization 1: Cluster distribution\n",
    "plt.figure(figsize=(10, 6))\n",
    "sns.countplot(x='Cluster', data=df)\n",
    "plt.title('Distribution of Customers Across Clusters')\n",
    "plt.xlabel('Cluster')\n",
    "plt.ylabel('Number of Customers')\n",
    "plt.show()"
   ]
  },
  {
   "cell_type": "code",
   "execution_count": 27,
   "id": "415dae38-05ce-4bb9-b464-190a4ce36815",
   "metadata": {},
   "outputs": [
    {
     "data": {
      "image/png": "[encoded data removed]",
      "text/plain": [
       "<Figure size 1000x600 with 1 Axes>"
      ]
     },
     "metadata": {},
     "output_type": "display_data"
    }
   ],
   "source": [
    "# Visualization 2: Average Balance by Cluster\n",
    "plt.figure(figsize=(10, 6))\n",
    "sns.boxplot(x='Cluster', y='BALANCE', data=df)\n",
    "plt.title('Balance Distribution by Cluster')\n",
    "plt.xlabel('Cluster')\n",
    "plt.ylabel('Balance')\n",
    "plt.show()"
   ]
  },
  {
   "cell_type": "markdown",
   "id": "80c18233-3660-4d36-8770-de9db0dc0074",
   "metadata": {},
   "source": [
    "### Insights"
   ]
  },
  {
   "cell_type": "code",
   "execution_count": 29,
   "id": "63a891f0-edcf-4c21-ad5d-3261d5e5cca9",
   "metadata": {},
   "outputs": [
    {
     "name": "stdout",
     "output_type": "stream",
     "text": [
      "Insights:\n",
      "1. Customers are segmented into 5 clusters based on their purchasing behavior.\n",
      "2. The distribution of customers across clusters is fairly even, with some clusters having significantly more customers.\n",
      "3. Clusters exhibit distinct characteristics in terms of balance, total purchases, and payment ratios.\n",
      "4. Identifying high-value clusters can help in targeting marketing strategies effectively.\n",
      "5. Quality assurance checks ensured that the clustering results are robust and outliers were handled.\n"
     ]
    }
   ],
   "source": [
    "print(\"Insights:\")\n",
    "print(\"1. Customers are segmented into\", optimal_clusters, \"clusters based on their purchasing behavior.\")\n",
    "print(\"2. The distribution of customers across clusters is fairly even, with some clusters having significantly more customers.\")\n",
    "print(\"3. Clusters exhibit distinct characteristics in terms of balance, total purchases, and payment ratios.\")\n",
    "print(\"4. Identifying high-value clusters can help in targeting marketing strategies effectively.\")\n",
    "print(\"5. Quality assurance checks ensured that the clustering results are robust and outliers were handled.\")"
   ]
  },
  {
   "cell_type": "code",
   "execution_count": null,
   "id": "bea9115e-f405-483c-9a68-de088440accc",
   "metadata": {},
   "outputs": [],
   "source": []
  }
 ],
 "metadata": {
  "kernelspec": {
   "display_name": "Python 3 (ipykernel)",
   "language": "python",
   "name": "python3"
  },
  "language_info": {
   "codemirror_mode": {
    "name": "ipython",
    "version": 3
   },
   "file_extension": ".py",
   "mimetype": "text/x-python",
   "name": "python",
   "nbconvert_exporter": "python",
   "pygments_lexer": "ipython3",
   "version": "3.12.0"
  }
 },
 "nbformat": 4,
 "nbformat_minor": 5
}
